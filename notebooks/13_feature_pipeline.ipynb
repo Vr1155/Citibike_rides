{
 "cells": [
  {
   "cell_type": "markdown",
   "id": "5583be64",
   "metadata": {},
   "source": [
    "# Uploading a file to hopsworks"
   ]
  },
  {
   "cell_type": "code",
   "execution_count": 3,
   "id": "a701cc7f",
   "metadata": {},
   "outputs": [
    {
     "name": "stdout",
     "output_type": "stream",
     "text": [
      "2025-05-10 11:21:08,495 INFO: Closing external client and cleaning up certificates.\n",
      "Connection closed.\n",
      "2025-05-10 11:21:08,498 INFO: Initializing external client\n",
      "2025-05-10 11:21:08,498 INFO: Base URL: https://c.app.hopsworks.ai:443\n",
      "2025-05-10 11:21:09,046 INFO: Python Engine initialized.\n",
      "\n",
      "Logged in to project, explore it here https://c.app.hopsworks.ai:443/p/1214684\n",
      "📤 Uploading to Hopsworks...\n"
     ]
    },
    {
     "data": {
      "application/vnd.jupyter.widget-view+json": {
       "model_id": "054195739d464d1e899e4e544e68ac0a",
       "version_major": 2,
       "version_minor": 0
      },
      "text/plain": [
       "Uploading /Users/vaibhavranshoor/Downloads/Citibike_rides/notebooks/../data/processed/2023/citibike_2023_all.p…"
      ]
     },
     "metadata": {},
     "output_type": "display_data"
    },
    {
     "name": "stdout",
     "output_type": "stream",
     "text": [
      "✅ Upload complete.\n"
     ]
    }
   ],
   "source": [
    "import hopsworks\n",
    "import os\n",
    "from dotenv import load_dotenv\n",
    "\n",
    "# Load your secrets from .env (optional if already in env)\n",
    "load_dotenv()\n",
    "\n",
    "project = hopsworks.login(\n",
    "    project=os.getenv(\"HOPSWORKS_PROJECT_NAME\"),\n",
    "    api_key_value=os.getenv(\"HOPSWORKS_API_KEY\")\n",
    ")\n",
    "\n",
    "dataset_api = project.get_dataset_api()\n",
    "\n",
    "# Local and remote paths\n",
    "local_path = \"../data/processed/2023/citibike_2023_all.parquet\"\n",
    "remote_path = \"Resources/citibike/citibike_2023_all.parquet\"\n",
    "\n",
    "print(\"📤 Uploading to Hopsworks...\")\n",
    "dataset_api.upload(local_path, remote_path)\n",
    "print(\"✅ Upload complete.\")\n"
   ]
  }
 ],
 "metadata": {
  "kernelspec": {
   "display_name": "citibike",
   "language": "python",
   "name": "python3"
  },
  "language_info": {
   "codemirror_mode": {
    "name": "ipython",
    "version": 3
   },
   "file_extension": ".py",
   "mimetype": "text/x-python",
   "name": "python",
   "nbconvert_exporter": "python",
   "pygments_lexer": "ipython3",
   "version": "3.12.9"
  }
 },
 "nbformat": 4,
 "nbformat_minor": 5
}
